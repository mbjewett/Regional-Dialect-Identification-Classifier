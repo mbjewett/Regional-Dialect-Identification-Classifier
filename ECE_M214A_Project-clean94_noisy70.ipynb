{
 "cells": [
  {
   "cell_type": "markdown",
   "metadata": {
    "id": "iUGt3c3glZcm"
   },
   "source": [
    "##ECE M214A Project: Speaker Region Identification\n",
    "\n"
   ]
  },
  {
   "cell_type": "markdown",
   "metadata": {
    "id": "U45DldLRvjGB"
   },
   "source": [
    "In this project, we'll train a machine learning algorithm to classify speakers by regional dialect.  We will use speech samples from the Corpus of Regional African American Language (CORAAL - https://oraal.uoregon.edu/coraal) with speakers each belonging to one of five different US cities: 1) Rochester, NY (ROC), 2) Lower East Side, Manhattan, NY (LES), 3) Washington DC (DCB), 4) Princeville, NC (PRV), or 5) Valdosta, GA (VLD).\n",
    "\n",
    "The project files can be downloaded from [this link](https://ucla.box.com/s/332ewjf1fjmod77c4r2b7c1zq8j1a9pp)\n",
    "\n",
    "To do this, we will first extract features from the audio files and then train a classifier to predict the city of origin of the utterance's speaker.  The goal is to extract a feature that contains useful information about regional dialect characteristics."
   ]
  },
  {
   "cell_type": "markdown",
   "metadata": {
    "id": "3ZGgwhT7lsNZ"
   },
   "source": [
    "##1. Setting up the data directories and Google Colab"
   ]
  },
  {
   "cell_type": "markdown",
   "metadata": {
    "id": "zSI8N_Imwiwz"
   },
   "source": [
    "Find the data for this project here: https://drive.google.com/drive/folders/1DRiIxfj5G6VzfHr1ojXxeE1YdLbae5xH?usp=sharing and store a copy in your google drive.  \n",
    "\n",
    "Make sure that the 'project_data' folder is stored in the top level of your google drive.  Otherwise, you will need to change the corresponding paths in the remainder of the notebook."
   ]
  },
  {
   "cell_type": "markdown",
   "metadata": {
    "id": "srmiFaC9xSw4"
   },
   "source": [
    "Mount your google drive. This will give this notebook read/write access to data stored in your google drive.  You can either do this in the file browser on the left side of this notebook or by running the code snippet below. \n",
    "\n",
    "It is recommended that you use your UCLA google account for this project, as it has more storage than a standard google account."
   ]
  },
  {
   "cell_type": "code",
   "execution_count": 1,
   "metadata": {
    "colab": {
     "base_uri": "https://localhost:8080/"
    },
    "id": "AEmYBGxdve23",
    "outputId": "8d167ed2-a808-4f99-ec98-50489882a4ce"
   },
   "outputs": [],
   "source": [
    "# from google.colab import drive\n",
    "# drive.mount('/content/drive')"
   ]
  },
  {
   "cell_type": "markdown",
   "metadata": {
    "id": "OUKk6flWvYVB"
   },
   "source": [
    "To run this project on your local system, replace the corresponding file paths to the locations of the project files on your local machine"
   ]
  },
  {
   "cell_type": "markdown",
   "metadata": {
    "id": "hon860bcmLDD"
   },
   "source": [
    "## 2. Getting familiar with the data"
   ]
  },
  {
   "cell_type": "markdown",
   "metadata": {
    "id": "UaEIHyQByAiy"
   },
   "source": [
    "\n",
    "Let's take a moment to understand the data.  The original CORAAL dataset consists of ~85 different speakers, each from one of five cities.  The audio files are names with the convention: DCB_se1_ag1_f_03.  Here, DCB is the city code, se1 denotes the socioeconomic group of the speaker, ag1 denotes the age group of the speaker, f denotes female, and 03 denotes the participant number.  These unique combinations of identifiers mark the speaker.  \n",
    "\n",
    "The dataset has been preprocessed to only include audio segments greater than 10 seconds in length. there are a number of audio snippets of at least 10sec in length.  Those segments are numbered with the appending tag _seg_number for each segment.\n",
    "\n",
    "You can also try listening to any segment like this:"
   ]
  },
  {
   "cell_type": "code",
   "execution_count": 2,
   "metadata": {
    "colab": {
     "base_uri": "https://localhost:8080/",
     "height": 75
    },
    "id": "NAiO3g1e9oN7",
    "outputId": "e4903f6f-24bd-4f96-8913-be57c232a695"
   },
   "outputs": [],
   "source": [
    "# from IPython.display import Audio\n",
    "\n",
    "# sr = 44100\n",
    "\n",
    "# Audio(filename= \"C:/Users/xings/Downloads/ECE M214A Winter 2023 Project/project_data/train_clean/DCB_se1_ag1_f_03_1_seg_3.wav\", rate=sr)"
   ]
  },
  {
   "cell_type": "markdown",
   "metadata": {
    "id": "1XvoR_iOmexS"
   },
   "source": [
    "The original dataset has also been split into a train and test set. The test set has been further split, with a portion corrupted with the addition of 10dB babble noise:"
   ]
  },
  {
   "cell_type": "code",
   "execution_count": 3,
   "metadata": {
    "colab": {
     "base_uri": "https://localhost:8080/",
     "height": 75
    },
    "id": "taM2RJCGnVS1",
    "outputId": "1c23bf8b-a663-4f2a-8f9d-1f0450835b68"
   },
   "outputs": [],
   "source": [
    "# sr = 44100\n",
    "\n",
    "# Audio(filename= \"C:/Users/xings/Downloads/ECE M214A Winter 2023 Project/project_data/test_noisy/LES_se0_ag3_f_01_1_seg_57.wav\", rate=sr)"
   ]
  },
  {
   "cell_type": "markdown",
   "metadata": {
    "id": "3Uu12stenzcx"
   },
   "source": [
    "## 3. Feature Extraction"
   ]
  },
  {
   "cell_type": "markdown",
   "metadata": {
    "id": "3QpW8VRs9t_c"
   },
   "source": [
    "As a baseline, we will be using the average mfcc value over time from the Librosa Python library. Your job will be to choose better features to improve performance on both the clean and noisy data"
   ]
  },
  {
   "cell_type": "markdown",
   "metadata": {
    "id": "zNEtHr-TapYg"
   },
   "source": [
    "We first define a pair of functions to create features and labels for our classification model:\n"
   ]
  },
  {
   "cell_type": "code",
   "execution_count": 4,
   "metadata": {
    "id": "O8nOljY9x9Bo"
   },
   "outputs": [
    {
     "name": "stderr",
     "output_type": "stream",
     "text": [
      "C:\\Users\\xings\\AppData\\Local\\Programs\\Python\\Python310\\lib\\site-packages\\tqdm\\auto.py:21: TqdmWarning: IProgress not found. Please update jupyter and ipywidgets. See https://ipywidgets.readthedocs.io/en/stable/user_install.html\n",
      "  from .autonotebook import tqdm as notebook_tqdm\n"
     ]
    }
   ],
   "source": [
    "import librosa\n",
    "import torchaudio\n",
    "import numpy as np\n",
    "from glob import glob\n",
    "from tqdm import tqdm\n",
    "import opensmile\n",
    "import os\n",
    "import time\n",
    "import pandas as pd\n",
    "import audb\n",
    "import audiofile\n",
    "\n",
    "def extract_feature(audio_file, n_mfcc=13):\n",
    "\n",
    "    '''\n",
    "  Function to extract features from a single audio file given its path\n",
    "  Modify this function to extract your own custom features\n",
    "  '''\n",
    "\n",
    "    audio, fs = audiofile.read(\n",
    "        audio_file,\n",
    "        always_2d=True,\n",
    "    )\n",
    "  # replace the following features with your own\n",
    "    # Below is a toolkit from openSMILE and \n",
    "    # I implemented all of the feature set (total of 88)\n",
    "    # along with two additional feature melspectrogram, zero crossing rate\n",
    "    # from librosa. The two additional features I will implement later\n",
    "        \n",
    "    smile = opensmile.Smile(feature_set=opensmile.FeatureSet.eGeMAPSv02,\n",
    "                            feature_level=opensmile.FeatureLevel.Functionals,\n",
    "                           )\n",
    "    features=smile.process_signal(audio,fs)\n",
    "    feat_out = features.to_numpy()\n",
    "    return feat_out\n",
    "\n",
    "def get_label(file_name):\n",
    "  '''\n",
    "  Function to retrieve output labels from filenames\n",
    "  '''\n",
    "  if 'ROC' in file_name:\n",
    "    label=0\n",
    "  elif 'LES' in file_name:\n",
    "    label=1\n",
    "  elif 'DC' in file_name:\n",
    "    label=2\n",
    "  elif 'PRV' in file_name:\n",
    "    label=3\n",
    "  elif 'VLD' in file_name:\n",
    "    label=4\n",
    "  else:\n",
    "    raise ValueError('invalid file name')\n",
    "  return label"
   ]
  },
  {
   "cell_type": "markdown",
   "metadata": {
    "id": "ZAe_LnvKbCO_"
   },
   "source": [
    "Let us now call these functions to extract the features and labels from the train_clean directory"
   ]
  },
  {
   "cell_type": "code",
   "execution_count": 5,
   "metadata": {
    "colab": {
     "background_save": true,
     "base_uri": "https://localhost:8080/"
    },
    "id": "4XdmLAGFYkaG",
    "outputId": "527416f4-694e-42e5-95bb-cb778697c2e8"
   },
   "outputs": [],
   "source": [
    "# I comment out all the feature extraction in order to save some time\n",
    "# the output data can be imported from previous sections\n",
    "\n",
    "\n",
    "# #First we obtain the list of all files in the train_clean directory\n",
    "# train_files = glob('C:/Users/xings/Downloads/ECE M214A Winter 2023 Project/project_data/train_clean/*.wav')\n",
    "\n",
    "# #Let's sort it so that we're all using the same file list order\n",
    "# #and you can continue processing the features from a given file if it stops\n",
    "# #partway through running\n",
    "# train_files.sort() \n",
    "\n",
    "# train_feat=[]\n",
    "# train_label=[]\n",
    "\n",
    "# for wav in tqdm(train_files):\n",
    "\n",
    "#   train_feat.append(extract_feature(wav))\n",
    "#   train_label.append(get_label(wav))"
   ]
  },
  {
   "cell_type": "code",
   "execution_count": 6,
   "metadata": {
    "colab": {
     "background_save": true
    },
    "id": "UkyzBSo-bwOo",
    "outputId": "fbcbaf75-180c-4438-c9ff-b45910eb1d93"
   },
   "outputs": [],
   "source": [
    "# #Now we obtain the list of all files in the test_clean directory\n",
    "# test_clean_files = glob('C:/Users/xings/Downloads/ECE M214A Winter 2023 Project/project_data/test_clean/*.wav')\n",
    "\n",
    "# #Similar to above, we sort the files\n",
    "# test_clean_files.sort() \n",
    "\n",
    "# test_clean_feat=[]\n",
    "# test_clean_label=[]\n",
    "\n",
    "# for wav in tqdm(test_clean_files):\n",
    "\n",
    "#   test_clean_feat.append(extract_feature(wav))\n",
    "#   test_clean_label.append(get_label(wav))"
   ]
  },
  {
   "cell_type": "code",
   "execution_count": 7,
   "metadata": {
    "colab": {
     "background_save": true
    },
    "id": "pP6-pNDQbxLU",
    "outputId": "57a42d8c-d077-408a-82e7-d8c9015defd5"
   },
   "outputs": [],
   "source": [
    "# #Finally we obtain the list of all files in the test_noisy directory\n",
    "# test_noisy_files = glob('C:/Users/xings/Downloads/ECE M214A Winter 2023 Project/project_data/test_noisy/*.wav')\n",
    "\n",
    "# #Similar to above, we sort the files\n",
    "# test_noisy_files.sort() \n",
    "\n",
    "# test_noisy_feat=[]\n",
    "# test_noisy_label=[]\n",
    "\n",
    "# for wav in tqdm(test_noisy_files):\n",
    "\n",
    "#   test_noisy_feat.append(extract_feature(wav))\n",
    "#   test_noisy_label.append(get_label(wav))"
   ]
  },
  {
   "cell_type": "code",
   "execution_count": 8,
   "metadata": {},
   "outputs": [],
   "source": [
    "# # Get the chosen feature's names\n",
    "# feat_names = np.array(test_noisy_feat[0].columns[[31,33,38,4,14,53,8,47,62,0]])\n",
    "# feat_names=np.append(feat_names,['Melspectrogram','Zero Crossing Rate']) \n",
    "# with open('pickle_feat_names.data', 'wb') as f:\n",
    "#     pickle.dump(feat_names, f)"
   ]
  },
  {
   "cell_type": "code",
   "execution_count": 9,
   "metadata": {},
   "outputs": [],
   "source": [
    "# pickle the data for saving processing time in the future\n",
    "\n",
    "import pickle\n",
    "# with open('pickle_train_feat.data', 'wb') as f:\n",
    "#     pickle.dump(train_feat, f)\n",
    "# with open('pickle_train_label.data', 'wb') as f:\n",
    "#     pickle.dump(train_label, f)\n",
    "# with open('pickle_test_clean_feat.data', 'wb') as f:\n",
    "#     pickle.dump(test_clean_feat, f)\n",
    "# with open('pickle_test_clean_label.data', 'wb') as f:\n",
    "#     pickle.dump(test_clean_label, f)\n",
    "# with open('pickle_test_noisy_feat.data', 'wb') as f:\n",
    "#     pickle.dump(test_noisy_feat, f)\n",
    "# with open('pickle_test_noisy_label.data', 'wb') as f:\n",
    "#     pickle.dump(test_noisy_label, f)"
   ]
  },
  {
   "cell_type": "code",
   "execution_count": 10,
   "metadata": {},
   "outputs": [],
   "source": [
    "# import data from pickle files\n",
    "# the data only contains 88 features from openSMILE\n",
    "\n",
    "import pickle\n",
    "with open('pickle_train_feat.data','rb') as f:\n",
    "    train_feat_A = pickle.load(f)\n",
    "with open('pickle_train_label.data','rb') as f:\n",
    "    train_label = pickle.load(f)\n",
    "with open('pickle_test_clean_feat.data','rb') as f:\n",
    "    test_clean_feat_A = pickle.load(f)\n",
    "with open('pickle_test_clean_label.data','rb') as f:\n",
    "    test_clean_label = pickle.load(f)\n",
    "with open('pickle_test_noisy_feat.data','rb') as f:\n",
    "    test_noisy_feat_A = pickle.load(f)\n",
    "with open('pickle_test_noisy_label.data','rb') as f:\n",
    "    test_noisy_label = pickle.load(f)\n",
    "with open('pickle_feat_names.data','rb') as f:\n",
    "    feat_names = pickle.load(f)"
   ]
  },
  {
   "cell_type": "code",
   "execution_count": 11,
   "metadata": {},
   "outputs": [
    {
     "name": "stdout",
     "output_type": "stream",
     "text": [
      "['jitterLocal_sma3nz_stddevNorm' 'shimmerLocaldB_sma3nz_stddevNorm'\n",
      " 'logRelF0-H1-A3_sma3nz_amean'\n",
      " 'F0semitoneFrom27.5Hz_sma3nz_percentile80.0'\n",
      " 'loudness_sma3_percentile80.0' 'F3frequency_sma3nz_stddevNorm'\n",
      " 'F0semitoneFrom27.5Hz_sma3nz_meanFallingSlope'\n",
      " 'F2frequency_sma3nz_stddevNorm' 'slopeV0-500_sma3nz_amean'\n",
      " 'F0semitoneFrom27.5Hz_sma3nz_amean' 'Melspectrogram' 'Zero Crossing Rate']\n"
     ]
    }
   ],
   "source": [
    "print(feat_names)"
   ]
  },
  {
   "cell_type": "code",
   "execution_count": 12,
   "metadata": {},
   "outputs": [],
   "source": [
    "# transform lists to np.arrays \n",
    "# the np.delete function is only here for future test\n",
    "# it does not affect the data here\n",
    "# train_feat=np.delete(np.array(train_feat_A)[:,0,:], [], axis=1)\n",
    "# test_clean_feat=np.delete(np.array(test_clean_feat_A)[:,0,:], [], axis=1)\n",
    "# test_noisy_feat=np.delete(np.array(test_noisy_feat_A)[:,0,:], [], axis=1)"
   ]
  },
  {
   "cell_type": "code",
   "execution_count": 13,
   "metadata": {},
   "outputs": [],
   "source": [
    "# transform lists to np.arrays\n",
    "# the ten features are chosen from the openSMILE set\n",
    "# according to the test implemented below\n",
    "feat_index = [31,33,38,4,14,53,8,47,62,0]\n",
    "train_feat=np.array(train_feat_A)[:,0,feat_index]\n",
    "test_clean_feat=np.array(test_clean_feat_A)[:,0,feat_index]\n",
    "test_noisy_feat=np.array(test_noisy_feat_A)[:,0,feat_index]"
   ]
  },
  {
   "cell_type": "code",
   "execution_count": 14,
   "metadata": {},
   "outputs": [],
   "source": [
    "# Here I am extracting two more features\n",
    "# Melspectrogram and zero crossing rate\n",
    "\n",
    "def extract_feature_mels_zcr(audio_file):\n",
    "    audio,fs = torchaudio.load(audio_file)\n",
    "    audio = audio.numpy().reshape(-1)\n",
    "    mels = librosa.feature.melspectrogram(y=audio, sr=fs)\n",
    "    zcr = librosa.feature.zero_crossing_rate(audio)\n",
    "    feat_out = np.array([np.nanmean(mels), np.nanmean(zcr)])\n",
    "    return feat_out"
   ]
  },
  {
   "cell_type": "code",
   "execution_count": 15,
   "metadata": {},
   "outputs": [],
   "source": [
    "# import the results for the two additional features\n",
    "import pickle\n",
    "with open('pickle_train_feat_mels_zcr.data','rb') as f:\n",
    "    train_feat_mels_zcr = pickle.load(f)\n",
    "with open('pickle_train_label.data','rb') as f:\n",
    "    train_label = pickle.load(f)\n",
    "with open('pickle_test_clean_feat_mels_zcr.data','rb') as f:\n",
    "    test_clean_feat_mels_zcr = pickle.load(f)\n",
    "with open('pickle_test_clean_label.data','rb') as f:\n",
    "    test_clean_label = pickle.load(f)\n",
    "with open('pickle_test_noisy_feat_mels_zcr.data','rb') as f:\n",
    "    test_noisy_feat_mels_zcr = pickle.load(f)\n",
    "with open('pickle_test_noisy_label.data','rb') as f:\n",
    "    test_noisy_label = pickle.load(f)"
   ]
  },
  {
   "cell_type": "code",
   "execution_count": 16,
   "metadata": {},
   "outputs": [],
   "source": [
    "# stack the two features with the ten chosen features\n",
    "train_feat = np.column_stack((train_feat,train_feat_mels_zcr))\n",
    "test_clean_feat = np.column_stack((test_clean_feat,test_clean_feat_mels_zcr))\n",
    "test_noisy_feat = np.column_stack((test_noisy_feat,test_noisy_feat_mels_zcr))"
   ]
  },
  {
   "cell_type": "code",
   "execution_count": 17,
   "metadata": {},
   "outputs": [],
   "source": [
    "# #First we obtain the list of all files in the train_clean directory\n",
    "# train_files = glob('C:/Users/xings/Downloads/ECE M214A Winter 2023 Project/project_data/train_clean/*.wav')\n",
    "\n",
    "# #Let's sort it so that we're all using the same file list order\n",
    "# #and you can continue processing the features from a given file if it stops\n",
    "# #partway through running\n",
    "# train_files.sort() \n",
    "\n",
    "# train_feat_mels_zcr=[]\n",
    "# train_label=[]\n",
    "\n",
    "# for wav in tqdm(train_files):\n",
    "\n",
    "#   train_feat_mels_zcr.append(extract_feature_mels_zcr(wav))\n",
    "#   train_label.append(get_label(wav))"
   ]
  },
  {
   "cell_type": "code",
   "execution_count": 18,
   "metadata": {},
   "outputs": [],
   "source": [
    "# #Now we obtain the list of all files in the test_clean directory\n",
    "# test_clean_files = glob('C:/Users/xings/Downloads/ECE M214A Winter 2023 Project/project_data/test_clean/*.wav')\n",
    "\n",
    "# #Similar to above, we sort the files\n",
    "# test_clean_files.sort() \n",
    "\n",
    "# test_clean_feat_mels_zcr=[]\n",
    "# test_clean_label=[]\n",
    "\n",
    "# for wav in tqdm(test_clean_files):\n",
    "\n",
    "#   test_clean_feat_mels_zcr.append(extract_feature_mels_zcr(wav))\n",
    "#   test_clean_label.append(get_label(wav))"
   ]
  },
  {
   "cell_type": "code",
   "execution_count": 19,
   "metadata": {},
   "outputs": [],
   "source": [
    "# #Finally we obtain the list of all files in the test_noisy directory\n",
    "# test_noisy_files = glob('C:/Users/xings/Downloads/ECE M214A Winter 2023 Project/project_data/test_noisy/*.wav')\n",
    "\n",
    "# #Similar to above, we sort the files\n",
    "# test_noisy_files.sort() \n",
    "\n",
    "# test_noisy_feat_mels_zcr=[]\n",
    "# test_noisy_label=[]\n",
    "\n",
    "# for wav in tqdm(test_noisy_files):\n",
    "\n",
    "#   test_noisy_feat_mels_zcr.append(extract_feature_mels_zcr(wav))\n",
    "#   test_noisy_label.append(get_label(wav))"
   ]
  },
  {
   "cell_type": "markdown",
   "metadata": {
    "id": "Pw2ju2S9oUD-"
   },
   "source": [
    "## 4. Model Training and Predictions"
   ]
  },
  {
   "cell_type": "markdown",
   "metadata": {
    "id": "ssNxb69kMSCg"
   },
   "source": [
    "Now we'll train the backend system to predict the regions from the input features.  We'll use an xgboosted decision tree for this.  An advantage of this model is that we can also parse the decision tree and measure the impact of different features in the end result for explainability"
   ]
  },
  {
   "cell_type": "code",
   "execution_count": 20,
   "metadata": {
    "id": "DV1n9ZdOMzA2"
   },
   "outputs": [
    {
     "name": "stdout",
     "output_type": "stream",
     "text": [
      "Requirement already satisfied: shap in c:\\users\\xings\\appdata\\local\\programs\\python\\python310\\lib\\site-packages (0.41.0)\n",
      "Requirement already satisfied: pandas in c:\\users\\xings\\appdata\\local\\programs\\python\\python310\\lib\\site-packages (from shap) (1.5.3)\n",
      "Requirement already satisfied: packaging>20.9 in c:\\users\\xings\\appdata\\local\\programs\\python\\python310\\lib\\site-packages (from shap) (23.0)\n",
      "Requirement already satisfied: scikit-learn in c:\\users\\xings\\appdata\\local\\programs\\python\\python310\\lib\\site-packages (from shap) (1.2.2)\n",
      "Requirement already satisfied: tqdm>4.25.0 in c:\\users\\xings\\appdata\\local\\programs\\python\\python310\\lib\\site-packages (from shap) (4.65.0)\n",
      "Requirement already satisfied: cloudpickle in c:\\users\\xings\\appdata\\local\\programs\\python\\python310\\lib\\site-packages (from shap) (2.2.1)\n",
      "Requirement already satisfied: numpy in c:\\users\\xings\\appdata\\local\\programs\\python\\python310\\lib\\site-packages (from shap) (1.23.5)\n",
      "Requirement already satisfied: slicer==0.0.7 in c:\\users\\xings\\appdata\\local\\programs\\python\\python310\\lib\\site-packages (from shap) (0.0.7)\n",
      "Requirement already satisfied: numba in c:\\users\\xings\\appdata\\local\\programs\\python\\python310\\lib\\site-packages (from shap) (0.56.4)\n",
      "Requirement already satisfied: scipy in c:\\users\\xings\\appdata\\local\\programs\\python\\python310\\lib\\site-packages (from shap) (1.10.1)\n",
      "Requirement already satisfied: colorama in c:\\users\\xings\\appdata\\local\\programs\\python\\python310\\lib\\site-packages (from tqdm>4.25.0->shap) (0.4.6)\n",
      "Requirement already satisfied: setuptools in c:\\users\\xings\\appdata\\local\\programs\\python\\python310\\lib\\site-packages (from numba->shap) (65.5.0)\n",
      "Requirement already satisfied: llvmlite<0.40,>=0.39.0dev0 in c:\\users\\xings\\appdata\\local\\programs\\python\\python310\\lib\\site-packages (from numba->shap) (0.39.1)\n",
      "Requirement already satisfied: python-dateutil>=2.8.1 in c:\\users\\xings\\appdata\\local\\programs\\python\\python310\\lib\\site-packages (from pandas->shap) (2.8.2)\n",
      "Requirement already satisfied: pytz>=2020.1 in c:\\users\\xings\\appdata\\local\\programs\\python\\python310\\lib\\site-packages (from pandas->shap) (2022.7.1)\n",
      "Requirement already satisfied: joblib>=1.1.1 in c:\\users\\xings\\appdata\\local\\programs\\python\\python310\\lib\\site-packages (from scikit-learn->shap) (1.2.0)\n",
      "Requirement already satisfied: threadpoolctl>=2.0.0 in c:\\users\\xings\\appdata\\local\\programs\\python\\python310\\lib\\site-packages (from scikit-learn->shap) (3.1.0)\n",
      "Requirement already satisfied: six>=1.5 in c:\\users\\xings\\appdata\\local\\programs\\python\\python310\\lib\\site-packages (from python-dateutil>=2.8.1->pandas->shap) (1.16.0)\n"
     ]
    },
    {
     "name": "stderr",
     "output_type": "stream",
     "text": [
      "\n",
      "[notice] A new release of pip available: 22.3.1 -> 23.0.1\n",
      "[notice] To update, run: python.exe -m pip install --upgrade pip\n"
     ]
    }
   ],
   "source": [
    "#Install shap library\n",
    "!pip install shap"
   ]
  },
  {
   "cell_type": "code",
   "execution_count": 21,
   "metadata": {},
   "outputs": [],
   "source": [
    "# # This cell is only for test\n",
    "# # Test for the importance of each feature from the sets\n",
    "# # by adding features according to the impact on the result accuracy\n",
    "\n",
    "# clean_th=0\n",
    "# noisy_th=0\n",
    "# index = []\n",
    "# train_feat=np.delete(np.array(train_feat_A)[:,0,:], [], axis=1)\n",
    "# test_clean_feat=np.delete(np.array(test_clean_feat_A)[:,0,:], [], axis=1)\n",
    "# test_noisy_feat=np.delete(np.array(test_noisy_feat_A)[:,0,:], [], axis=1)\n",
    "# feat_num = len(train_feat[0])\n",
    "# for i in range(feat_num):\n",
    "#                 #Format input data    \n",
    "# #                 train_feat=np.delete(np.array(train_feat_A)[:,0,:], [i,j,k,l], axis=1)\n",
    "# #                 test_clean_feat=np.delete(np.array(test_clean_feat_A)[:,0,:], [i,j,k,l], axis=1)\n",
    "# #                 test_noisy_feat=np.delete(np.array(test_noisy_feat_A)[:,0,:], [i,j,k,l], axis=1)\n",
    "#     ind = [31,33,38,4,14,53,8,47,62,0,i]\n",
    "#     train_feat=np.array(train_feat_A)[:,0,ind]\n",
    "#     test_clean_feat=np.array(test_clean_feat_A)[:,0,ind]\n",
    "#     test_noisy_feat=np.array(test_noisy_feat_A)[:,0,ind]\n",
    "#     train_feat = np.column_stack((train_feat,train_feat_mels_zcr))\n",
    "#     test_clean_feat = np.column_stack((test_clean_feat,test_clean_feat_mels_zcr))\n",
    "#     test_noisy_feat = np.column_stack((test_noisy_feat,test_noisy_feat_mels_zcr))\n",
    "#     #Edit this variable to create a list that contains your feature names\n",
    "#     feat_names=['opensmile_' +str(n) for n in range(len(train_feat[0]))]\n",
    "#     train_feat_df = pd.DataFrame(data=np.stack(train_feat), columns=feat_names)\n",
    "#     y_train=np.stack(train_label)\n",
    "\n",
    "#     test_clean_feat_df = pd.DataFrame(data=np.stack(test_clean_feat), columns=feat_names)\n",
    "#     y_test_clean=np.stack(test_clean_label)\n",
    "\n",
    "#     test_noisy_feat_df = pd.DataFrame(data=np.stack(test_noisy_feat), columns=feat_names)\n",
    "#     y_test_noisy=np.stack(test_noisy_label)\n",
    "\n",
    "#                 #you could just pass in the matrix of features to xgboost\n",
    "#                 #but it looks prettier in the shap explainer if you format it\n",
    "#                 #as a dataframe.  \n",
    "                \n",
    "#     model = xgboost.XGBClassifier(tree_method='gpu_hist')\n",
    "#     model.fit(train_feat_df,y_train)\n",
    "                \n",
    "#     clean_accu = np.sum(y_test_clean==model.predict(test_clean_feat_df))/len(y_test_clean)\n",
    "#     noisy_accu = np.sum(y_test_noisy==model.predict(test_noisy_feat_df))/len(y_test_noisy)\n",
    "#     if clean_accu+noisy_accu > clean_th+noisy_th:\n",
    "#         clean_th = clean_accu\n",
    "#         noisy_th = noisy_accu\n",
    "#         print(ind)\n",
    "# #     if noisy_accu > noisy_th and clean_accu > clean_th:\n",
    "# #         print(\"==================================\")\n",
    "# #         print(\"i =\",i ,\"; j =\",j ,\"; k =\",k ,\"; l =\",l,\"is a valid four features\")\n",
    "# #         print(\"The clean accuracy is\", clean_accu,\" and the noisy accuracy is\", noisy_accu)\n",
    "# #         print(\"==================================\")\n",
    "# #         index_clean.append([i,j,k,l])\n",
    "#     print(clean_accu,noisy_accu)"
   ]
  },
  {
   "cell_type": "code",
   "execution_count": 22,
   "metadata": {
    "scrolled": true
   },
   "outputs": [],
   "source": [
    "# # This cell is only for test\n",
    "# # Test for the importance of each feature from the sets\n",
    "# # from excluding features from the set\n",
    "\n",
    "# clean_th=0.9\n",
    "# noisy_th=0.6\n",
    "# index = []\n",
    "# train_feat=np.delete(np.array(train_feat_A)[:,0,:], [], axis=1)\n",
    "# test_clean_feat=np.delete(np.array(test_clean_feat_A)[:,0,:], [], axis=1)\n",
    "# test_noisy_feat=np.delete(np.array(test_noisy_feat_A)[:,0,:], [], axis=1)\n",
    "# feat_num = len(train_feat[0])\n",
    "# for i in range(feat_num):\n",
    "#     for j in range(i+1,feat_num):\n",
    "#         for k in range(j+1,feat_num):\n",
    "#             for l in range(k+1,feat_num):\n",
    "#                 if l == 89: \n",
    "#                     print(\"Test for i =\",i ,\"; j =\",j ,\"; k =\",k ,\"is Complete\")\n",
    "#                 #Format input data    \n",
    "# #                 train_feat=np.delete(np.array(train_feat_A)[:,0,:], [i,j,k,l], axis=1)\n",
    "# #                 test_clean_feat=np.delete(np.array(test_clean_feat_A)[:,0,:], [i,j,k,l], axis=1)\n",
    "# #                 test_noisy_feat=np.delete(np.array(test_noisy_feat_A)[:,0,:], [i,j,k,l], axis=1)\n",
    "#                 train_feat=np.array(train_feat_A)[:,0,[i,j,k,l]]\n",
    "#                 test_clean_feat=np.array(test_clean_feat_A)[:,0,[i,j,k,l]]\n",
    "#                 test_noisy_feat=np.array(test_noisy_feat_A)[:,0,[i,j,k,l]]\n",
    "#                 #Edit this variable to create a list that contains your feature names\n",
    "#                 feat_names=['opensmile_' +str(n) for n in range(len(train_feat[0]))]\n",
    "\n",
    "#                 train_feat_df = pd.DataFrame(data=np.stack(train_feat), columns=feat_names)\n",
    "#                 y_train=np.stack(train_label)\n",
    "\n",
    "\n",
    "#                 test_clean_feat_df = pd.DataFrame(data=np.stack(test_clean_feat), columns=feat_names)\n",
    "#                 y_test_clean=np.stack(test_clean_label)\n",
    "\n",
    "\n",
    "#                 test_noisy_feat_df = pd.DataFrame(data=np.stack(test_noisy_feat), columns=feat_names)\n",
    "#                 y_test_noisy=np.stack(test_noisy_label)\n",
    "\n",
    "#                 #you could just pass in the matrix of features to xgboost\n",
    "#                 #but it looks prettier in the shap explainer if you format it\n",
    "#                 #as a dataframe.  \n",
    "                \n",
    "#                 model = xgboost.XGBClassifier(tree_method='gpu_hist')\n",
    "#                 model.fit(train_feat_df,y_train)\n",
    "                \n",
    "#                 clean_accu = np.sum(y_test_clean==model.predict(test_clean_feat_df))/len(y_test_clean)\n",
    "#                 noisy_accu = np.sum(y_test_noisy==model.predict(test_noisy_feat_df))/len(y_test_noisy)\n",
    "#                 if noisy_accu > noisy_th and clean_accu > clean_th:\n",
    "#                     print(\"==================================\")\n",
    "#                     print(\"i =\",i ,\"; j =\",j ,\"; k =\",k ,\"; l =\",l,\"is a valid four features\")\n",
    "#                     print(\"The clean accuracy is\", clean_accu,\" and the noisy accuracy is\", noisy_accu)\n",
    "#                     print(\"==================================\")\n",
    "#                     index_clean.append([i,j,k,l])"
   ]
  },
  {
   "cell_type": "code",
   "execution_count": 23,
   "metadata": {},
   "outputs": [
    {
     "data": {
      "text/plain": [
       "(4372, 12)"
      ]
     },
     "execution_count": 23,
     "metadata": {},
     "output_type": "execute_result"
    }
   ],
   "source": [
    "np.shape(train_feat)"
   ]
  },
  {
   "cell_type": "code",
   "execution_count": 24,
   "metadata": {
    "id": "FdlSdywtJ0jm"
   },
   "outputs": [
    {
     "name": "stdout",
     "output_type": "stream",
     "text": [
      "Train Clean Acc = 1.0\n",
      "Test Clean Acc = 0.941834451901566\n",
      "Test Noisy Acc = 0.7089337175792507\n"
     ]
    }
   ],
   "source": [
    "import xgboost\n",
    "import numpy as np\n",
    "import shap\n",
    "import pandas as pd\n",
    "\n",
    "#Format input data\n",
    "\n",
    "#Edit this variable to create a list that contains your feature names\n",
    "# feat_names=['opensmile_' +str(n) for n in range(len(train_feat[0]))]\n",
    "\n",
    "train_feat_df = pd.DataFrame(data=np.stack(train_feat), columns=feat_names)\n",
    "y_train=np.stack(train_label)\n",
    "\n",
    "\n",
    "test_clean_feat_df = pd.DataFrame(data=np.stack(test_clean_feat), columns=feat_names)\n",
    "y_test_clean=np.stack(test_clean_label)\n",
    "\n",
    "\n",
    "test_noisy_feat_df = pd.DataFrame(data=np.stack(test_noisy_feat), columns=feat_names)\n",
    "y_test_noisy=np.stack(test_noisy_label)\n",
    "\n",
    "\n",
    "#you could just pass in the matrix of features to xgboost\n",
    "#but it looks prettier in the shap explainer if you format it\n",
    "#as a dataframe.  \n",
    "\n",
    "\n",
    "model = xgboost.XGBClassifier()\n",
    "model.fit(train_feat_df,y_train)\n",
    "\n",
    "print(\"Train Clean Acc =\", np.sum(y_train==model.predict(train_feat_df))/len(y_train))\n",
    "\n",
    "print(\"Test Clean Acc =\", np.sum(y_test_clean==model.predict(test_clean_feat_df))/len(y_test_clean))\n",
    "\n",
    "print(\"Test Noisy Acc =\", np.sum(y_test_noisy==model.predict(test_noisy_feat_df))/len(y_test_noisy))\n"
   ]
  },
  {
   "cell_type": "markdown",
   "metadata": {
    "id": "EU1Zv35-Xdfh"
   },
   "source": [
    "To save a dataframe of features, uncomment and run the following block of code"
   ]
  },
  {
   "cell_type": "code",
   "execution_count": 25,
   "metadata": {
    "id": "zVCxaJuqXj8S"
   },
   "outputs": [],
   "source": [
    "# train_feat_df.to_csv('drive/MyDrive/current_features.csv')"
   ]
  },
  {
   "cell_type": "markdown",
   "metadata": {
    "id": "sS7zsBisXwgt"
   },
   "source": [
    "To Load a preexisting dataframe of features (saved from a previous notebook), run the following cell and then train the model"
   ]
  },
  {
   "cell_type": "code",
   "execution_count": 26,
   "metadata": {
    "id": "AzXTGihBX8Py"
   },
   "outputs": [],
   "source": [
    "# train_feat_df = pd.read_csv('drive/MyDrive/myfeat_train.csv')\n",
    "# test_clean_feat_df = pd.read_csv('drive/MyDrive/myfeat_test_clean.csv')\n",
    "# test_noisy_feat_df = pd.read_csv('drive/MyDrive/myfeat_test_noisy.csv')"
   ]
  },
  {
   "cell_type": "markdown",
   "metadata": {
    "id": "V22hV2OenttX"
   },
   "source": [
    "The following cells are to extract features from MATLAB. Ensure that you've run the baseline once before running the cells"
   ]
  },
  {
   "cell_type": "markdown",
   "metadata": {
    "id": "BRhRhr2DoYTp"
   },
   "source": [
    "Saving list of train_clean, test_clean and test_noisy files "
   ]
  },
  {
   "cell_type": "code",
   "execution_count": 27,
   "metadata": {
    "id": "heJ0zhpQoHXy"
   },
   "outputs": [],
   "source": [
    "# Note: we save the list of files to ensure the labels match the utterances\n",
    "# You can omit this step if you plan on extracting the labels in MATLAB\n",
    "# But will need to rewrite other parts of the notebook\n",
    "\n",
    "# with open('train_files.txt', 'w') as f:\n",
    "#     for line in train_files:\n",
    "#         f.write(f\"{line}\\n\")\n",
    "\n",
    "# with open('test_clean_files.txt', 'w') as f:\n",
    "#     for line in test_clean_files:\n",
    "#         f.write(f\"{line}\\n\")\n",
    "\n",
    "# with open('test_noisy_files.txt', 'w') as f:\n",
    "#     for line in test_noisy_files:\n",
    "#         f.write(f\"{line}\\n\")"
   ]
  },
  {
   "cell_type": "markdown",
   "metadata": {
    "id": "z35bywV-pOXS"
   },
   "source": [
    "After extracting features using wrapper.m, run the following cell to retrieve a dataframe containing the features"
   ]
  },
  {
   "cell_type": "code",
   "execution_count": 28,
   "metadata": {
    "id": "uGCMJkvIpx7D"
   },
   "outputs": [],
   "source": [
    "# train_feat_df = pd.read_csv('drive/MyDrive/myfeat_train.csv')\n",
    "# test_clean_feat_df = pd.read_csv('drive/MyDrive/myfeat_test_clean.csv')\n",
    "# test_noisy_feat_df = pd.read_csv('drive/MyDrive/myfeat_test_noisy.csv')"
   ]
  },
  {
   "cell_type": "markdown",
   "metadata": {
    "id": "2-E5w5FsoeLK"
   },
   "source": [
    "## 5. Interpreting Results and Explainability"
   ]
  },
  {
   "cell_type": "markdown",
   "metadata": {
    "id": "x11o8qaNfSYT"
   },
   "source": [
    "To see the impact different features have on the model, we create a plot of the feature importances. The features are listed top to bottom in order of how important they were to the decision."
   ]
  },
  {
   "cell_type": "code",
   "execution_count": 29,
   "metadata": {
    "id": "f7aXxyyBeLkE"
   },
   "outputs": [
    {
     "name": "stderr",
     "output_type": "stream",
     "text": [
      "ntree_limit is deprecated, use `iteration_range` or model slicing instead.\n"
     ]
    },
    {
     "data": {
      "image/png": "[encoded data removed]",
      "text/plain": [
       "<Figure size 800x630 with 1 Axes>"
      ]
     },
     "metadata": {},
     "output_type": "display_data"
    }
   ],
   "source": [
    "explainer = shap.TreeExplainer(model)\n",
    "shap_values = explainer.shap_values(train_feat_df)\n",
    "shap.summary_plot(shap_values, train_feat_df)"
   ]
  },
  {
   "cell_type": "markdown",
   "metadata": {
    "id": "KlzXmcA-fd7x"
   },
   "source": [
    "And we can see a confusion matrix of the mispredictions"
   ]
  },
  {
   "cell_type": "code",
   "execution_count": 30,
   "metadata": {
    "id": "e5xFg3P2fqj_"
   },
   "outputs": [
    {
     "data": {
      "image/png": "[encoded data removed]",
      "text/plain": [
       "<Figure size 640x480 with 2 Axes>"
      ]
     },
     "metadata": {},
     "output_type": "display_data"
    }
   ],
   "source": [
    "from sklearn import metrics\n",
    "import matplotlib.pyplot as plt\n",
    "\n",
    "confusion_matrix_clean = metrics.confusion_matrix(y_test_clean, model.predict(test_clean_feat_df))\n",
    "cm_display = metrics.ConfusionMatrixDisplay(confusion_matrix = confusion_matrix_clean, display_labels = ['ROC','LES','DCB','PRV','VLD'])\n",
    "cm_display.plot()\n",
    "plt.show()"
   ]
  },
  {
   "cell_type": "code",
   "execution_count": 31,
   "metadata": {
    "id": "K5S3VgD4TXQe"
   },
   "outputs": [
    {
     "data": {
      "image/png": "[encoded data removed]",
      "text/plain": [
       "<Figure size 640x480 with 2 Axes>"
      ]
     },
     "metadata": {},
     "output_type": "display_data"
    }
   ],
   "source": [
    "\n",
    "confusion_matrix_noisy = metrics.confusion_matrix(y_test_noisy, model.predict(test_noisy_feat_df))\n",
    "cm_display = metrics.ConfusionMatrixDisplay(confusion_matrix = confusion_matrix_noisy, display_labels = ['ROC','LES','DCB','PRV','VLD'])\n",
    "cm_display.plot()\n",
    "plt.show()"
   ]
  },
  {
   "cell_type": "code",
   "execution_count": null,
   "metadata": {},
   "outputs": [],
   "source": []
  }
 ],
 "metadata": {
  "colab": {
   "provenance": []
  },
  "kernelspec": {
   "display_name": "Python 3 (ipykernel)",
   "language": "python",
   "name": "python3"
  },
  "language_info": {
   "codemirror_mode": {
    "name": "ipython",
    "version": 3
   },
   "file_extension": ".py",
   "mimetype": "text/x-python",
   "name": "python",
   "nbconvert_exporter": "python",
   "pygments_lexer": "ipython3",
   "version": "3.10.10"
  }
 },
 "nbformat": 4,
 "nbformat_minor": 1
}
